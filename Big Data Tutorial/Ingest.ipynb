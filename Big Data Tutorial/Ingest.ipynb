{
 "cells": [
  {
   "cell_type": "markdown",
   "metadata": {},
   "source": [
    "-sandbox\n<div style=\"text-align: center; line-height: 0; padding-top: 9px;\">\n  <img src=\"https://camo.githubusercontent.com/290ee18049382f170e5f63956a389da081a8c16f/68747470733a2f2f73332e616d617a6f6e6177732e636f6d2f636f6d2e726176656e7061636b2e636d732f70616765732f6a702d6d6f7267616e2d6269672d646174612d61692d35343637413139302e6a7067\"  style=\"width: 600px; height: 163px\">\n</div>"
   ]
  },
  {
   "cell_type": "markdown",
   "execution_count": 2,
   "metadata": {},
   "outputs": [
    {
     "data": {
      "text/html": [
       "<style scoped>\n  .ansiout {\n    display: block;\n    unicode-bidi: embed;\n    white-space: pre-wrap;\n    word-wrap: break-word;\n    word-break: break-all;\n    font-family: \"Source Code Pro\", \"Menlo\", monospace;;\n    font-size: 13px;\n    color: #555;\n    margin-left: 4px;\n    line-height: 19px;\n  }\n</style>\n<div class=\"ansiout\">\tjava.lang.IllegalArgumentException: Directory not mounted: /mnt/deepfin3\n\tat com.databricks.backend.daemon.data.client.DbfsClient.send0(DbfsClient.scala:100)\n\tat com.databricks.backend.daemon.data.client.DbfsClient.sendIdempotent(DbfsClient.scala:55)\n\tat com.databricks.backend.daemon.dbutils.DBUtilsCore.unmount(DBUtilsCore.scala:426)\n\tat com.databricks.backend.daemon.dbutils.DBUtilsCore.unmount(DBUtilsCore.scala:436)\n\tat com.databricks.dbutils_v1.impl.DbfsUtilsImpl.unmount(DbfsUtilsImpl.scala:95)\n\tat line9f22ce983f4342a087abe4fa8aef811025.$read$$iw$$iw$$iw$$iw$$iw$$iw.&lt;init&gt;(command-2877777033193263:1)\n\tat line9f22ce983f4342a087abe4fa8aef811025.$read$$iw$$iw$$iw$$iw$$iw.&lt;init&gt;(command-2877777033193263:44)\n\tat line9f22ce983f4342a087abe4fa8aef811025.$read$$iw$$iw$$iw$$iw.&lt;init&gt;(command-2877777033193263:46)\n\tat line9f22ce983f4342a087abe4fa8aef811025.$read$$iw$$iw$$iw.&lt;init&gt;(command-2877777033193263:48)\n\tat line9f22ce983f4342a087abe4fa8aef811025.$read$$iw$$iw.&lt;init&gt;(command-2877777033193263:50)\n\tat line9f22ce983f4342a087abe4fa8aef811025.$read$$iw.&lt;init&gt;(command-2877777033193263:52)\n\tat line9f22ce983f4342a087abe4fa8aef811025.$read.&lt;init&gt;(command-2877777033193263:54)\n\tat line9f22ce983f4342a087abe4fa8aef811025.$read$.&lt;init&gt;(command-2877777033193263:58)\n\tat line9f22ce983f4342a087abe4fa8aef811025.$read$.&lt;clinit&gt;(command-2877777033193263)\n\tat line9f22ce983f4342a087abe4fa8aef811025.$eval$.$print$lzycompute(&lt;notebook&gt;:7)\n\tat line9f22ce983f4342a087abe4fa8aef811025.$eval$.$print(&lt;notebook&gt;:6)\n\tat line9f22ce983f4342a087abe4fa8aef811025.$eval.$print(&lt;notebook&gt;)\n\tat sun.reflect.NativeMethodAccessorImpl.invoke0(Native Method)\n\tat sun.reflect.NativeMethodAccessorImpl.invoke(NativeMethodAccessorImpl.java:62)\n\tat sun.reflect.DelegatingMethodAccessorImpl.invoke(DelegatingMethodAccessorImpl.java:43)\n\tat java.lang.reflect.Method.invoke(Method.java:498)\n\tat scala.tools.nsc.interpreter.IMain$ReadEvalPrint.call(IMain.scala:786)\n\tat scala.tools.nsc.interpreter.IMain$Request.loadAndRun(IMain.scala:1047)\n\tat scala.tools.nsc.interpreter.IMain$WrappedRequest$$anonfun$loadAndRunReq$1.apply(IMain.scala:638)\n\tat scala.tools.nsc.interpreter.IMain$WrappedRequest$$anonfun$loadAndRunReq$1.apply(IMain.scala:637)\n\tat scala.reflect.internal.util.ScalaClassLoader$class.asContext(ScalaClassLoader.scala:31)\n\tat scala.reflect.internal.util.AbstractFileClassLoader.asContext(AbstractFileClassLoader.scala:19)\n\tat scala.tools.nsc.interpreter.IMain$WrappedRequest.loadAndRunReq(IMain.scala:637)\n\tat scala.tools.nsc.interpreter.IMain.interpret(IMain.scala:569)\n\tat scala.tools.nsc.interpreter.IMain.interpret(IMain.scala:565)\n\tat com.databricks.backend.daemon.driver.DriverILoop.execute(DriverILoop.scala:199)\n\tat com.databricks.backend.daemon.driver.ScalaDriverLocal$$anonfun$repl$1.apply$mcV$sp(ScalaDriverLocal.scala:189)\n\tat com.databricks.backend.daemon.driver.ScalaDriverLocal$$anonfun$repl$1.apply(ScalaDriverLocal.scala:189)\n\tat com.databricks.backend.daemon.driver.ScalaDriverLocal$$anonfun$repl$1.apply(ScalaDriverLocal.scala:189)\n\tat com.databricks.backend.daemon.driver.DriverLocal$TrapExitInternal$.trapExit(DriverLocal.scala:499)\n\tat com.databricks.backend.daemon.driver.DriverLocal$TrapExit$.apply(DriverLocal.scala:455)\n\tat com.databricks.backend.daemon.driver.ScalaDriverLocal.repl(ScalaDriverLocal.scala:189)\n\tat com.databricks.backend.daemon.driver.DriverLocal$$anonfun$execute$3.apply(DriverLocal.scala:248)\n\tat com.databricks.backend.daemon.driver.DriverLocal$$anonfun$execute$3.apply(DriverLocal.scala:228)\n\tat com.databricks.logging.UsageLogging$$anonfun$withAttributionContext$1.apply(UsageLogging.scala:188)\n\tat scala.util.DynamicVariable.withValue(DynamicVariable.scala:58)\n\tat com.databricks.logging.UsageLogging$class.withAttributionContext(UsageLogging.scala:183)\n\tat com.databricks.backend.daemon.driver.DriverLocal.withAttributionContext(DriverLocal.scala:40)\n\tat com.databricks.logging.UsageLogging$class.withAttributionTags(UsageLogging.scala:221)\n\tat com.databricks.backend.daemon.driver.DriverLocal.withAttributionTags(DriverLocal.scala:40)\n\tat com.databricks.backend.daemon.driver.DriverLocal.execute(DriverLocal.scala:228)\n\tat com.databricks.backend.daemon.driver.DriverWrapper$$anonfun$tryExecutingCommand$2.apply(DriverWrapper.scala:585)\n\tat com.databricks.backend.daemon.driver.DriverWrapper$$anonfun$tryExecutingCommand$2.apply(DriverWrapper.scala:585)\n\tat scala.util.Try$.apply(Try.scala:192)\n\tat com.databricks.backend.daemon.driver.DriverWrapper.tryExecutingCommand(DriverWrapper.scala:580)\n\tat com.databricks.backend.daemon.driver.DriverWrapper.getCommandOutputAndError(DriverWrapper.scala:464)\n\tat com.databricks.backend.daemon.driver.DriverWrapper.executeCommand(DriverWrapper.scala:538)\n\tat com.databricks.backend.daemon.driver.DriverWrapper.runInnerLoop(DriverWrapper.scala:370)\n\tat com.databricks.backend.daemon.driver.DriverWrapper.runInner(DriverWrapper.scala:327)\n\tat com.databricks.backend.daemon.driver.DriverWrapper.run(DriverWrapper.scala:215)\n\tat java.lang.Thread.run(Thread.java:748)\nCaused by: java.lang.IllegalArgumentException: Directory not mounted: /mnt/deepfin3\n\tat com.databricks.backend.daemon.data.server.DefaultMetadataManager.deleteMount(MetadataManager.scala:154)\n\tat com.databricks.backend.daemon.data.server.handler.MountHandler.receive(MountHandler.scala:82)\n\tat com.databricks.backend.daemon.data.server.session.SessionContext.$anonfun$queryHandlers$1(SessionContext.scala:83)\n\tat com.databricks.backend.daemon.data.server.session.SessionContext.$anonfun$queryHandlers$1$adapted(SessionContext.scala:82)\n\tat scala.collection.immutable.List.foreach(List.scala:389)\n\tat com.databricks.backend.daemon.data.server.session.SessionContext.queryHandlers(SessionContext.scala:82)\n\tat com.databricks.backend.daemon.data.server.DbfsServerBackend$$anonfun$receive$3.applyOrElse(DbfsServerBackend.scala:272)\n\tat com.databricks.backend.daemon.data.server.DbfsServerBackend$$anonfun$receive$3.applyOrElse(DbfsServerBackend.scala:252)\n\tat com.databricks.rpc.ServerBackend.$anonfun$internalReceive$2(ServerBackend.scala:42)\n\tat com.databricks.rpc.ServerBackend$$anonfun$commonReceive$1.applyOrElse(ServerBackend.scala:58)\n\tat com.databricks.rpc.ServerBackend$$anonfun$commonReceive$1.applyOrElse(ServerBackend.scala:58)\n\tat com.databricks.rpc.ServerBackend.$anonfun$internalReceive$1(ServerBackend.scala:38)\n\tat com.databricks.logging.UsageLogging.$anonfun$recordOperation$2(UsageLogging.scala:313)\n\tat com.databricks.logging.UsageLogging.$anonfun$withAttributionContext$1(UsageLogging.scala:188)\n\tat scala.util.DynamicVariable.withValue(DynamicVariable.scala:58)\n\tat com.databricks.logging.UsageLogging.withAttributionContext(UsageLogging.scala:183)\n\tat com.databricks.logging.UsageLogging.withAttributionContext$(UsageLogging.scala:180)\n\tat com.databricks.rpc.ServerBackend.withAttributionContext(ServerBackend.scala:13)\n\tat com.databricks.logging.UsageLogging.withAttributionTags(UsageLogging.scala:221)\n\tat com.databricks.logging.UsageLogging.withAttributionTags$(UsageLogging.scala:217)\n\tat com.databricks.rpc.ServerBackend.withAttributionTags(ServerBackend.scala:13)\n\tat com.databricks.logging.UsageLogging.recordOperation(UsageLogging.scala:298)\n\tat com.databricks.logging.UsageLogging.recordOperation$(UsageLogging.scala:273)\n\tat com.databricks.rpc.ServerBackend.recordOperation(ServerBackend.scala:13)\n\tat com.databricks.rpc.ServerBackend.internalReceive(ServerBackend.scala:38)\n\tat com.databricks.rpc.JettyServer$RequestManager.$anonfun$handleRPC$2(JettyServer.scala:287)\n\tat scala.util.Try$.apply(Try.scala:209)\n\tat com.databricks.rpc.JettyServer$RequestManager.handleRPC(JettyServer.scala:287)\n\tat com.databricks.rpc.JettyServer$RequestManager.handleRequestAndRespond(JettyServer.scala:222)\n\tat com.databricks.rpc.JettyServer$RequestManager.$anonfun$handleHttp$4(JettyServer.scala:156)\n\tat scala.runtime.java8.JFunction0$mcV$sp.apply(JFunction0$mcV$sp.java:12)\n\tat com.databricks.logging.UsageLogging.$anonfun$withAttributionContext$1(UsageLogging.scala:188)\n\tat scala.util.DynamicVariable.withValue(DynamicVariable.scala:58)\n\tat com.databricks.logging.UsageLogging.withAttributionContext(UsageLogging.scala:183)\n\tat com.databricks.logging.UsageLogging.withAttributionContext$(UsageLogging.scala:180)\n\tat com.databricks.rpc.JettyServer$.withAttributionContext(JettyServer.scala:83)\n\tat com.databricks.logging.UsageLogging.withAttributionTags(UsageLogging.scala:221)\n\tat com.databricks.logging.UsageLogging.withAttributionTags$(UsageLogging.scala:217)\n\tat com.databricks.rpc.JettyServer$.withAttributionTags(JettyServer.scala:83)\n\tat com.databricks.rpc.JettyServer$RequestManager.handleHttp(JettyServer.scala:147)\n\tat com.databricks.rpc.JettyServer$RequestManager.doGet(JettyServer.scala:101)\n\tat javax.servlet.http.HttpServlet.service(HttpServlet.java:687)\n\tat javax.servlet.http.HttpServlet.service(HttpServlet.java:790)\n\tat org.eclipse.jetty.servlet.ServletHolder.handle(ServletHolder.java:845)\n\tat org.eclipse.jetty.servlet.ServletHandler.doHandle(ServletHandler.java:584)\n\tat org.eclipse.jetty.servlet.ServletHandler.doScope(ServletHandler.java:514)\n\tat org.eclipse.jetty.server.handler.ScopedHandler.handle(ScopedHandler.java:141)\n\tat org.eclipse.jetty.server.handler.HandlerWrapper.handle(HandlerWrapper.java:134)\n\tat org.eclipse.jetty.server.Server.handle(Server.java:523)\n\tat org.eclipse.jetty.server.HttpChannel.handle(HttpChannel.java:320)\n\tat org.eclipse.jetty.server.HttpConnection.onFillable(HttpConnection.java:251)\n\tat org.eclipse.jetty.io.AbstractConnection$ReadCallback.succeeded(AbstractConnection.java:273)\n\tat org.eclipse.jetty.io.FillInterest.fillable(FillInterest.java:95)\n\tat org.eclipse.jetty.io.SelectChannelEndPoint$2.run(SelectChannelEndPoint.java:93)\n\tat org.eclipse.jetty.util.thread.strategy.ExecuteProduceConsume.executeProduceConsume(ExecuteProduceConsume.java:303)\n\tat org.eclipse.jetty.util.thread.strategy.ExecuteProduceConsume.produceConsume(ExecuteProduceConsume.java:148)\n\tat org.eclipse.jetty.util.thread.strategy.ExecuteProduceConsume.run(ExecuteProduceConsume.java:136)\n\tat org.eclipse.jetty.util.thread.QueuedThreadPool.runJob(QueuedThreadPool.java:671)\n\tat org.eclipse.jetty.util.thread.QueuedThreadPool$2.run(QueuedThreadPool.java:589)\n\tat java.lang.Thread.run(Thread.java:748)</div>"
      ]
     },
     "metadata": {},
     "output_type": "execute_result"
    }
   ],
   "source": [
    "%fs unmount /mnt/deepfin3"
   ]
  },
  {
   "cell_type": "markdown",
   "execution_count": 3,
   "metadata": {},
   "outputs": [
    {
     "data": {
      "text/html": [
       "<style scoped>\n  .ansiout {\n    display: block;\n    unicode-bidi: embed;\n    white-space: pre-wrap;\n    word-wrap: break-word;\n    word-break: break-all;\n    font-family: \"Source Code Pro\", \"Menlo\", monospace;;\n    font-size: 13px;\n    color: #555;\n    margin-left: 4px;\n    line-height: 19px;\n  }\n</style>\n<div class=\"ansiout\"><span class=\"ansired\">Out[</span><span class=\"ansired\">7</span><span class=\"ansired\">]: </span>True\n</div>"
      ]
     },
     "metadata": {},
     "output_type": "execute_result"
    }
   ],
   "source": [
    ""
   ]
  },
  {
   "cell_type": "markdown",
   "execution_count": 4,
   "metadata": {},
   "outputs": [
    {
     "data": {
      "text/html": [
       "<style scoped>\n  .table-result-container {\n    max-height: 300px;\n    overflow: auto;\n  }\n  table, th, td {\n    border: 1px solid black;\n    border-collapse: collapse;\n  }\n  th, td {\n    padding: 5px;\n  }\n  th {\n    text-align: left;\n  }\n</style><div class='table-result-container'><table class='table-result'><thead style='background-color: white'><tr><th>path</th><th>name</th><th>size</th></tr></thead><tbody><tr><td>dbfs:/mnt/training/</td><td>training/</td><td>0</td></tr></tbody></table></div>"
      ]
     },
     "metadata": {},
     "output_type": "execute_result"
    }
   ],
   "source": [
    "%fs ls /mnt/"
   ]
  },
  {
   "cell_type": "code",
   "execution_count": 5,
   "metadata": {},
   "outputs": [
    {
     "data": {
      "text/html": [
       "<style scoped>\n  .ansiout {\n    display: block;\n    unicode-bidi: embed;\n    white-space: pre-wrap;\n    word-wrap: break-word;\n    word-break: break-all;\n    font-family: \"Source Code Pro\", \"Menlo\", monospace;;\n    font-size: 13px;\n    color: #555;\n    margin-left: 4px;\n    line-height: 19px;\n  }\n</style>\n<div class=\"ansiout\"></div>"
      ]
     },
     "metadata": {},
     "output_type": "execute_result"
    }
   ],
   "source": [
    "import requests\n",
    "import os\n",
    "from bs4 import BeautifulSoup\n",
    "from azure.storage.blob import BlockBlobService"
   ]
  },
  {
   "cell_type": "code",
   "execution_count": 6,
   "metadata": {},
   "outputs": [
    {
     "data": {
      "text/html": [
       "<style scoped>\n  .ansiout {\n    display: block;\n    unicode-bidi: embed;\n    white-space: pre-wrap;\n    word-wrap: break-word;\n    word-break: break-all;\n    font-family: \"Source Code Pro\", \"Menlo\", monospace;;\n    font-size: 13px;\n    color: #555;\n    margin-left: 4px;\n    line-height: 19px;\n  }\n</style>\n<div class=\"ansiout\"></div>"
      ]
     },
     "metadata": {},
     "output_type": "execute_result"
    }
   ],
   "source": [
    "wasb_account_key = 'TODO'\n",
    "wasb_account_name = 'TODO'\n",
    "\n",
    "# Create the BlockBlockService that is used to call the Blob service for the storage account\n",
    "block_blob_service = BlockBlobService(account_name=wasb_account_name, account_key=wasb_account_key)\n",
    "\n",
    "# Create a container called 'quickstartblobs'.\n",
    "container_name ='deepfin3'\n",
    "if block_blob_service.exists(container_name) is False:\n",
    "  block_blob_service.create_container(container_name)      "
   ]
  },
  {
   "cell_type": "code",
   "execution_count": 7,
   "metadata": {},
   "outputs": [
    {
     "data": {
      "text/html": [
       "<style scoped>\n  .ansiout {\n    display: block;\n    unicode-bidi: embed;\n    white-space: pre-wrap;\n    word-wrap: break-word;\n    word-break: break-all;\n    font-family: \"Source Code Pro\", \"Menlo\", monospace;;\n    font-size: 13px;\n    color: #555;\n    margin-left: 4px;\n    line-height: 19px;\n  }\n</style>\n<div class=\"ansiout\"></div>"
      ]
     },
     "metadata": {},
     "output_type": "execute_result"
    }
   ],
   "source": [
    "def scrape_find_zips(url):\n",
    "    \"\"\" scrape the given url for any zip files in href tags \"\"\"\n",
    "    headers = {\n",
    "        'User-Agent': 'Mozilla/5.0 (X11; U; Linux i686; en-US; rv:1.9.0.1) Gecko/2008071615 Fedora/3.0.1-1.fc9 Firefox/3.0.1',\n",
    "    }\n",
    "\n",
    "    response = requests.get(url, headers=headers)\n",
    "    #print(response.status_code)\n",
    "    #print(response.text)\n",
    "    soup = BeautifulSoup(response.text, 'html.parser')\n",
    "    all_tags = soup.find_all('a', href=True)\n",
    "    tag_dict = {}\n",
    "    for tag in all_tags:\n",
    "      if '.zip' in tag['href']:\n",
    "          tag_dict[tag.get_text()] = tag['href']\n",
    "    return tag_dict\n"
   ]
  },
  {
   "cell_type": "code",
   "execution_count": 8,
   "metadata": {},
   "outputs": [
    {
     "data": {
      "text/html": [
       "<style scoped>\n  .ansiout {\n    display: block;\n    unicode-bidi: embed;\n    white-space: pre-wrap;\n    word-wrap: break-word;\n    word-break: break-all;\n    font-family: \"Source Code Pro\", \"Menlo\", monospace;;\n    font-size: 13px;\n    color: #555;\n    margin-left: 4px;\n    line-height: 19px;\n  }\n</style>\n<div class=\"ansiout\">dict_values([&apos;https://www.asxhistoricaldata.com/data/2007-2012.zip&apos;, &apos;https://www.asxhistoricaldata.com/data/2017july-december.zip&apos;, &apos;https://www.asxhistoricaldata.com/data/2017jan-june.zip&apos;, &apos;https://www.asxhistoricaldata.com/data/2013-2016.zip&apos;, &apos;https://www.asxhistoricaldata.com/data/1997-2006.zip&apos;])\n</div>"
      ]
     },
     "metadata": {},
     "output_type": "execute_result"
    }
   ],
   "source": [
    "url = \"https://www.asxhistoricaldata.com/archive/\"\n",
    "\n",
    "tag_dict = scrape_find_zips(url)\n",
    "\n",
    "print(tag_dict.values())"
   ]
  },
  {
   "cell_type": "code",
   "execution_count": 9,
   "metadata": {},
   "outputs": [
    {
     "data": {
      "text/html": [
       "<style scoped>\n  .ansiout {\n    display: block;\n    unicode-bidi: embed;\n    white-space: pre-wrap;\n    word-wrap: break-word;\n    word-break: break-all;\n    font-family: \"Source Code Pro\", \"Menlo\", monospace;;\n    font-size: 13px;\n    color: #555;\n    margin-left: 4px;\n    line-height: 19px;\n  }\n</style>\n<div class=\"ansiout\"></div>"
      ]
     },
     "metadata": {},
     "output_type": "execute_result"
    }
   ],
   "source": [
    "from azure.storage.file import ContentSettings\n",
    "\n",
    "def scrape_downloader(urls, dest):\n",
    "    \"\"\" download all files listed in urls {} dict \n",
    "    Input:\n",
    "        url = base url\n",
    "        urls= target paths to append to base url\n",
    "        dest= local path to store files\n",
    "    \"\"\"\n",
    "    for k_name, v_path in urls.items():\n",
    "        src = v_path        \n",
    "        \n",
    "        headers = {\n",
    "            'User-Agent': 'Mozilla/5.0 (X11; U; Linux i686; en-US; rv:1.9.0.1) Gecko/2008071615 Fedora/3.0.1-1.fc9 Firefox/3.0.1',\n",
    "        }\n",
    "        r = requests.get(src, headers=headers)  \n",
    "        if r is not None:\n",
    "          block_blob_service.create_blob_from_bytes(dest, k_name + '.zip', r.content)            \n",
    "          print(src)"
   ]
  },
  {
   "cell_type": "code",
   "execution_count": 10,
   "metadata": {},
   "outputs": [
    {
     "data": {
      "text/html": [
       "<style scoped>\n  .ansiout {\n    display: block;\n    unicode-bidi: embed;\n    white-space: pre-wrap;\n    word-wrap: break-word;\n    word-break: break-all;\n    font-family: \"Source Code Pro\", \"Menlo\", monospace;;\n    font-size: 13px;\n    color: #555;\n    margin-left: 4px;\n    line-height: 19px;\n  }\n</style>\n<div class=\"ansiout\">https://www.asxhistoricaldata.com/data/2007-2012.zip\nhttps://www.asxhistoricaldata.com/data/2017july-december.zip\nhttps://www.asxhistoricaldata.com/data/2017jan-june.zip\nhttps://www.asxhistoricaldata.com/data/2013-2016.zip\nhttps://www.asxhistoricaldata.com/data/1997-2006.zip\n</div>"
      ]
     },
     "metadata": {},
     "output_type": "execute_result"
    }
   ],
   "source": [
    "scrape_downloader(tag_dict, container_name)"
   ]
  },
  {
   "cell_type": "code",
   "execution_count": 11,
   "metadata": {},
   "outputs": [
    {
     "data": {
      "text/html": [
       "<style scoped>\n  .ansiout {\n    display: block;\n    unicode-bidi: embed;\n    white-space: pre-wrap;\n    word-wrap: break-word;\n    word-break: break-all;\n    font-family: \"Source Code Pro\", \"Menlo\", monospace;;\n    font-size: 13px;\n    color: #555;\n    margin-left: 4px;\n    line-height: 19px;\n  }\n</style>\n<div class=\"ansiout\">1997 - 2006.zip\n2007 - 2012.zip\n2013 - 2016.zip\nJan - June.zip\nJuly - December.zip\n</div>"
      ]
     },
     "metadata": {},
     "output_type": "execute_result"
    }
   ],
   "source": [
    "blobs = block_blob_service.list_blobs(container_name)\n",
    "\n",
    "for blob in blobs:\n",
    "  print(blob.name)"
   ]
  },
  {
   "cell_type": "code",
   "execution_count": 12,
   "metadata": {},
   "outputs": [
    {
     "data": {
      "text/html": [
       "<style scoped>\n  .ansiout {\n    display: block;\n    unicode-bidi: embed;\n    white-space: pre-wrap;\n    word-wrap: break-word;\n    word-break: break-all;\n    font-family: \"Source Code Pro\", \"Menlo\", monospace;;\n    font-size: 13px;\n    color: #555;\n    margin-left: 4px;\n    line-height: 19px;\n  }\n</style>\n<div class=\"ansiout\"></div>"
      ]
     },
     "metadata": {},
     "output_type": "execute_result"
    }
   ],
   "source": [
    "import zipfile\n",
    "import csv\n",
    "import datetime\n",
    "from io import BytesIO, TextIOWrapper\n",
    "from pyspark.sql import Row\n",
    "\n",
    "\n",
    "#get all files in container\n",
    "f_zip = [ blob.name for blob in blobs]\n",
    "\n",
    "#Create empty lists\n",
    "newlines = lines = header = all_lines = []\n",
    "\n",
    "#limit to single \n",
    "for f in f_zip: #[:1]: limit\n",
    "    #only go through zip files in container \n",
    "    if f.endswith(\".zip\"):\n",
    "      f_bytes = block_blob_service.get_blob_to_bytes(container_name, f)\n",
    "      with zipfile.ZipFile(BytesIO(f_bytes.content)) as main_zip:  \n",
    "        for inner_file in main_zip.namelist():   \n",
    "            #print(inner_file)\n",
    "            #read inner zip file\n",
    "            zfiledata = BytesIO(main_zip.read(inner_file))\n",
    "            inner_csv = TextIOWrapper(zfiledata, encoding='utf8', newline='')            \n",
    "            reader = csv.reader(inner_csv, delimiter=',', dialect=csv.unix_dialect)\n",
    "            \n",
    "            for row, line in enumerate(reader):\n",
    "                #print(line)\n",
    "                # 'Ticker', 'Date', 'Open', 'High', 'Low', 'Close', 'Volume'\n",
    "                lines.append(Row(Ticker=line[0], Date=datetime.datetime.strptime(line[1], '%Y%m%d') , High=float(line[2]), Low=float(line[3]), Close=float(line[4]), Volume=float(line[5])))\n",
    "            "
   ]
  },
  {
   "cell_type": "code",
   "execution_count": 13,
   "metadata": {},
   "outputs": [
    {
     "data": {
      "text/html": [
       "<style scoped>\n  .ansiout {\n    display: block;\n    unicode-bidi: embed;\n    white-space: pre-wrap;\n    word-wrap: break-word;\n    word-break: break-all;\n    font-family: \"Source Code Pro\", \"Menlo\", monospace;;\n    font-size: 13px;\n    color: #555;\n    margin-left: 4px;\n    line-height: 19px;\n  }\n</style>\n<div class=\"ansiout\"></div>"
      ]
     },
     "metadata": {},
     "output_type": "execute_result"
    }
   ],
   "source": [
    "df = sqlContext.createDataFrame(sc.parallelize(lines))"
   ]
  },
  {
   "cell_type": "code",
   "execution_count": 14,
   "metadata": {},
   "outputs": [
    {
     "data": {
      "text/html": [
       "<style scoped>\n  .ansiout {\n    display: block;\n    unicode-bidi: embed;\n    white-space: pre-wrap;\n    word-wrap: break-word;\n    word-break: break-all;\n    font-family: \"Source Code Pro\", \"Menlo\", monospace;;\n    font-size: 13px;\n    color: #555;\n    margin-left: 4px;\n    line-height: 19px;\n  }\n</style>\n<div class=\"ansiout\">root\n-- Close: double (nullable = true)\n-- Date: timestamp (nullable = true)\n-- High: double (nullable = true)\n-- Low: double (nullable = true)\n-- Ticker: string (nullable = true)\n-- Volume: double (nullable = true)\n\n</div>"
      ]
     },
     "metadata": {},
     "output_type": "execute_result"
    }
   ],
   "source": [
    "df.printSchema()"
   ]
  },
  {
   "cell_type": "code",
   "execution_count": 15,
   "metadata": {},
   "outputs": [
    {
     "data": {
      "text/html": [
       "<style scoped>\n  .ansiout {\n    display: block;\n    unicode-bidi: embed;\n    white-space: pre-wrap;\n    word-wrap: break-word;\n    word-break: break-all;\n    font-family: \"Source Code Pro\", \"Menlo\", monospace;;\n    font-size: 13px;\n    color: #555;\n    margin-left: 4px;\n    line-height: 19px;\n  }\n</style>\n<div class=\"ansiout\"><span class=\"ansired\">Out[</span><span class=\"ansired\">8</span><span class=\"ansired\">]: </span>6475470\n</div>"
      ]
     },
     "metadata": {},
     "output_type": "execute_result"
    }
   ],
   "source": [
    "df.count()"
   ]
  },
  {
   "cell_type": "code",
   "execution_count": 16,
   "metadata": {},
   "outputs": [
    {
     "data": {
      "text/html": [
       "<style scoped>\n  .table-result-container {\n    max-height: 300px;\n    overflow: auto;\n  }\n  table, th, td {\n    border: 1px solid black;\n    border-collapse: collapse;\n  }\n  th, td {\n    padding: 5px;\n  }\n  th {\n    text-align: left;\n  }\n</style><div class='table-result-container'><table class='table-result'><thead style='background-color: white'><tr></tr></thead><tbody></tbody></table></div>"
      ]
     },
     "metadata": {},
     "output_type": "execute_result"
    }
   ],
   "source": [
    "%sql drop table if exists asxhistoric;"
   ]
  },
  {
   "cell_type": "code",
   "execution_count": 17,
   "metadata": {},
   "outputs": [
    {
     "data": {
      "text/html": [
       "<style scoped>\n  .ansiout {\n    display: block;\n    unicode-bidi: embed;\n    white-space: pre-wrap;\n    word-wrap: break-word;\n    word-break: break-all;\n    font-family: \"Source Code Pro\", \"Menlo\", monospace;;\n    font-size: 13px;\n    color: #555;\n    margin-left: 4px;\n    line-height: 19px;\n  }\n</style>\n<div class=\"ansiout\"></div>"
      ]
     },
     "metadata": {},
     "output_type": "execute_result"
    }
   ],
   "source": [
    "df.write.saveAsTable(\"asxhistoric\")"
   ]
  },
  {
   "cell_type": "code",
   "execution_count": 18,
   "metadata": {},
   "outputs": [
    {
     "data": {
      "text/html": [
       "<style scoped>\n  .ansiout {\n    display: block;\n    unicode-bidi: embed;\n    white-space: pre-wrap;\n    word-wrap: break-word;\n    word-break: break-all;\n    font-family: \"Source Code Pro\", \"Menlo\", monospace;;\n    font-size: 13px;\n    color: #555;\n    margin-left: 4px;\n    line-height: 19px;\n  }\n</style>\n<div class=\"ansiout\"></div>"
      ]
     },
     "metadata": {},
     "output_type": "execute_result"
    }
   ],
   "source": [
    "from pyspark.sql.functions import year\n",
    "\n",
    "focus_df = ((df \n",
    "  .select(\"Date\", \"Close\", \"Ticker\") \n",
    "  .filter(\"Ticker = 'AAA'\")\n",
    "  .filter(year(\"Date\") == '1998')\n",
    "))"
   ]
  },
  {
   "cell_type": "code",
   "execution_count": 19,
   "metadata": {},
   "outputs": [
    {
     "data": {
      "text/html": [
       "<style scoped>\n  .ansiout {\n    display: block;\n    unicode-bidi: embed;\n    white-space: pre-wrap;\n    word-wrap: break-word;\n    word-break: break-all;\n    font-family: \"Source Code Pro\", \"Menlo\", monospace;;\n    font-size: 13px;\n    color: #555;\n    margin-left: 4px;\n    line-height: 19px;\n  }\n</style>\n<div class=\"ansiout\"><span class=\"ansired\">Out[</span><span class=\"ansired\">11</span><span class=\"ansired\">]: </span>254\n</div>"
      ]
     },
     "metadata": {},
     "output_type": "execute_result"
    }
   ],
   "source": [
    "focus_df.count()"
   ]
  },
  {
   "cell_type": "code",
   "execution_count": 20,
   "metadata": {},
   "outputs": [
    {
     "data": {
      "text/html": [
       "<style scoped>\n  .table-result-container {\n    max-height: 300px;\n    overflow: auto;\n  }\n  table, th, td {\n    border: 1px solid black;\n    border-collapse: collapse;\n  }\n  th, td {\n    padding: 5px;\n  }\n  th {\n    text-align: left;\n  }\n</style><div class='table-result-container'><table class='table-result'><thead style='background-color: white'><tr><th>Date</th><th>Close</th><th>Ticker</th></tr></thead><tbody><tr><td>1998-01-02T00:00:00.000+0000</td><td>1.38</td><td>AAA</td></tr><tr><td>1998-01-05T00:00:00.000+0000</td><td>1.34</td><td>AAA</td></tr><tr><td>1998-01-06T00:00:00.000+0000</td><td>1.27</td><td>AAA</td></tr><tr><td>1998-01-07T00:00:00.000+0000</td><td>1.36</td><td>AAA</td></tr><tr><td>1998-01-08T00:00:00.000+0000</td><td>1.375</td><td>AAA</td></tr><tr><td>1998-01-09T00:00:00.000+0000</td><td>1.42</td><td>AAA</td></tr><tr><td>1998-01-12T00:00:00.000+0000</td><td>1.48</td><td>AAA</td></tr><tr><td>1998-01-13T00:00:00.000+0000</td><td>1.5</td><td>AAA</td></tr><tr><td>1998-01-14T00:00:00.000+0000</td><td>1.568</td><td>AAA</td></tr><tr><td>1998-01-15T00:00:00.000+0000</td><td>1.49</td><td>AAA</td></tr><tr><td>1998-01-16T00:00:00.000+0000</td><td>1.54</td><td>AAA</td></tr><tr><td>1998-01-19T00:00:00.000+0000</td><td>1.58</td><td>AAA</td></tr><tr><td>1998-01-20T00:00:00.000+0000</td><td>1.59</td><td>AAA</td></tr><tr><td>1998-01-21T00:00:00.000+0000</td><td>1.63</td><td>AAA</td></tr><tr><td>1998-01-22T00:00:00.000+0000</td><td>1.71</td><td>AAA</td></tr><tr><td>1998-01-23T00:00:00.000+0000</td><td>1.68</td><td>AAA</td></tr><tr><td>1998-01-27T00:00:00.000+0000</td><td>1.77</td><td>AAA</td></tr><tr><td>1998-01-28T00:00:00.000+0000</td><td>1.82</td><td>AAA</td></tr><tr><td>1998-01-29T00:00:00.000+0000</td><td>1.96</td><td>AAA</td></tr><tr><td>1998-01-30T00:00:00.000+0000</td><td>1.94</td><td>AAA</td></tr><tr><td>1998-02-02T00:00:00.000+0000</td><td>1.88</td><td>AAA</td></tr><tr><td>1998-02-03T00:00:00.000+0000</td><td>1.83</td><td>AAA</td></tr><tr><td>1998-02-04T00:00:00.000+0000</td><td>1.76</td><td>AAA</td></tr><tr><td>1998-02-05T00:00:00.000+0000</td><td>1.84</td><td>AAA</td></tr><tr><td>1998-02-06T00:00:00.000+0000</td><td>1.86</td><td>AAA</td></tr><tr><td>1998-02-09T00:00:00.000+0000</td><td>1.88</td><td>AAA</td></tr><tr><td>1998-02-10T00:00:00.000+0000</td><td>1.969</td><td>AAA</td></tr><tr><td>1998-02-11T00:00:00.000+0000</td><td>1.98</td><td>AAA</td></tr><tr><td>1998-02-12T00:00:00.000+0000</td><td>1.97</td><td>AAA</td></tr><tr><td>1998-02-13T00:00:00.000+0000</td><td>1.93</td><td>AAA</td></tr><tr><td>1998-02-16T00:00:00.000+0000</td><td>1.87</td><td>AAA</td></tr><tr><td>1998-02-17T00:00:00.000+0000</td><td>1.84</td><td>AAA</td></tr><tr><td>1998-02-18T00:00:00.000+0000</td><td>1.84</td><td>AAA</td></tr><tr><td>1998-02-19T00:00:00.000+0000</td><td>1.86</td><td>AAA</td></tr><tr><td>1998-02-20T00:00:00.000+0000</td><td>1.95</td><td>AAA</td></tr><tr><td>1998-02-23T00:00:00.000+0000</td><td>1.96</td><td>AAA</td></tr><tr><td>1998-02-24T00:00:00.000+0000</td><td>1.92</td><td>AAA</td></tr><tr><td>1998-02-25T00:00:00.000+0000</td><td>1.9</td><td>AAA</td></tr><tr><td>1998-02-26T00:00:00.000+0000</td><td>1.93</td><td>AAA</td></tr><tr><td>1998-02-27T00:00:00.000+0000</td><td>1.92</td><td>AAA</td></tr><tr><td>1998-03-02T00:00:00.000+0000</td><td>1.99</td><td>AAA</td></tr><tr><td>1998-03-03T00:00:00.000+0000</td><td>1.98</td><td>AAA</td></tr><tr><td>1998-03-04T00:00:00.000+0000</td><td>1.96</td><td>AAA</td></tr><tr><td>1998-03-05T00:00:00.000+0000</td><td>1.96</td><td>AAA</td></tr><tr><td>1998-03-06T00:00:00.000+0000</td><td>1.91</td><td>AAA</td></tr><tr><td>1998-03-09T00:00:00.000+0000</td><td>1.92</td><td>AAA</td></tr><tr><td>1998-03-10T00:00:00.000+0000</td><td>1.96</td><td>AAA</td></tr><tr><td>1998-03-11T00:00:00.000+0000</td><td>1.97</td><td>AAA</td></tr><tr><td>1998-03-12T00:00:00.000+0000</td><td>1.96</td><td>AAA</td></tr><tr><td>1998-03-13T00:00:00.000+0000</td><td>2.01</td><td>AAA</td></tr><tr><td>1998-03-16T00:00:00.000+0000</td><td>2.04</td><td>AAA</td></tr><tr><td>1998-03-17T00:00:00.000+0000</td><td>2.09</td><td>AAA</td></tr><tr><td>1998-03-18T00:00:00.000+0000</td><td>2.05</td><td>AAA</td></tr><tr><td>1998-03-19T00:00:00.000+0000</td><td>1.99</td><td>AAA</td></tr><tr><td>1998-03-20T00:00:00.000+0000</td><td>1.97</td><td>AAA</td></tr><tr><td>1998-03-23T00:00:00.000+0000</td><td>1.95</td><td>AAA</td></tr><tr><td>1998-03-24T00:00:00.000+0000</td><td>2.0</td><td>AAA</td></tr><tr><td>1998-03-25T00:00:00.000+0000</td><td>2.03</td><td>AAA</td></tr><tr><td>1998-03-26T00:00:00.000+0000</td><td>1.96</td><td>AAA</td></tr><tr><td>1998-03-27T00:00:00.000+0000</td><td>2.0</td><td>AAA</td></tr><tr><td>1998-03-30T00:00:00.000+0000</td><td>1.98</td><td>AAA</td></tr><tr><td>1998-03-31T00:00:00.000+0000</td><td>1.99</td><td>AAA</td></tr><tr><td>1998-04-01T00:00:00.000+0000</td><td>2.02</td><td>AAA</td></tr><tr><td>1998-04-02T00:00:00.000+0000</td><td>1.98</td><td>AAA</td></tr><tr><td>1998-04-03T00:00:00.000+0000</td><td>2.0</td><td>AAA</td></tr><tr><td>1998-04-06T00:00:00.000+0000</td><td>2.033</td><td>AAA</td></tr><tr><td>1998-04-07T00:00:00.000+0000</td><td>2.16</td><td>AAA</td></tr><tr><td>1998-04-08T00:00:00.000+0000</td><td>2.11</td><td>AAA</td></tr><tr><td>1998-04-09T00:00:00.000+0000</td><td>2.1</td><td>AAA</td></tr><tr><td>1998-04-14T00:00:00.000+0000</td><td>2.139</td><td>AAA</td></tr><tr><td>1998-04-15T00:00:00.000+0000</td><td>2.17</td><td>AAA</td></tr><tr><td>1998-04-16T00:00:00.000+0000</td><td>2.238</td><td>AAA</td></tr><tr><td>1998-04-17T00:00:00.000+0000</td><td>2.19</td><td>AAA</td></tr><tr><td>1998-04-20T00:00:00.000+0000</td><td>2.23</td><td>AAA</td></tr><tr><td>1998-04-21T00:00:00.000+0000</td><td>2.299</td><td>AAA</td></tr><tr><td>1998-04-22T00:00:00.000+0000</td><td>2.36</td><td>AAA</td></tr><tr><td>1998-04-23T00:00:00.000+0000</td><td>2.395</td><td>AAA</td></tr><tr><td>1998-04-24T00:00:00.000+0000</td><td>2.4</td><td>AAA</td></tr><tr><td>1998-04-27T00:00:00.000+0000</td><td>2.37</td><td>AAA</td></tr><tr><td>1998-04-28T00:00:00.000+0000</td><td>2.28</td><td>AAA</td></tr><tr><td>1998-04-29T00:00:00.000+0000</td><td>2.32</td><td>AAA</td></tr><tr><td>1998-04-30T00:00:00.000+0000</td><td>2.35</td><td>AAA</td></tr><tr><td>1998-05-01T00:00:00.000+0000</td><td>2.35</td><td>AAA</td></tr><tr><td>1998-05-04T00:00:00.000+0000</td><td>2.28</td><td>AAA</td></tr><tr><td>1998-05-05T00:00:00.000+0000</td><td>2.33</td><td>AAA</td></tr><tr><td>1998-05-06T00:00:00.000+0000</td><td>2.3</td><td>AAA</td></tr><tr><td>1998-05-07T00:00:00.000+0000</td><td>2.19</td><td>AAA</td></tr><tr><td>1998-05-08T00:00:00.000+0000</td><td>2.15</td><td>AAA</td></tr><tr><td>1998-05-11T00:00:00.000+0000</td><td>2.26</td><td>AAA</td></tr><tr><td>1998-05-12T00:00:00.000+0000</td><td>2.27</td><td>AAA</td></tr><tr><td>1998-05-13T00:00:00.000+0000</td><td>2.3</td><td>AAA</td></tr><tr><td>1998-05-14T00:00:00.000+0000</td><td>2.33</td><td>AAA</td></tr><tr><td>1998-05-15T00:00:00.000+0000</td><td>2.33</td><td>AAA</td></tr><tr><td>1998-05-18T00:00:00.000+0000</td><td>2.33</td><td>AAA</td></tr><tr><td>1998-05-19T00:00:00.000+0000</td><td>2.29</td><td>AAA</td></tr><tr><td>1998-05-20T00:00:00.000+0000</td><td>2.22</td><td>AAA</td></tr><tr><td>1998-05-21T00:00:00.000+0000</td><td>2.22</td><td>AAA</td></tr><tr><td>1998-05-22T00:00:00.000+0000</td><td>2.25</td><td>AAA</td></tr><tr><td>1998-05-25T00:00:00.000+0000</td><td>2.23</td><td>AAA</td></tr><tr><td>1998-05-26T00:00:00.000+0000</td><td>2.22</td><td>AAA</td></tr><tr><td>1998-05-27T00:00:00.000+0000</td><td>2.05</td><td>AAA</td></tr><tr><td>1998-05-28T00:00:00.000+0000</td><td>2.01</td><td>AAA</td></tr><tr><td>1998-05-29T00:00:00.000+0000</td><td>1.93</td><td>AAA</td></tr><tr><td>1998-06-01T00:00:00.000+0000</td><td>1.955</td><td>AAA</td></tr><tr><td>1998-06-02T00:00:00.000+0000</td><td>1.85</td><td>AAA</td></tr><tr><td>1998-06-03T00:00:00.000+0000</td><td>1.88</td><td>AAA</td></tr><tr><td>1998-06-04T00:00:00.000+0000</td><td>1.9</td><td>AAA</td></tr><tr><td>1998-06-05T00:00:00.000+0000</td><td>1.88</td><td>AAA</td></tr><tr><td>1998-06-09T00:00:00.000+0000</td><td>1.88</td><td>AAA</td></tr><tr><td>1998-06-10T00:00:00.000+0000</td><td>1.85</td><td>AAA</td></tr><tr><td>1998-06-11T00:00:00.000+0000</td><td>1.87</td><td>AAA</td></tr><tr><td>1998-06-12T00:00:00.000+0000</td><td>1.78</td><td>AAA</td></tr><tr><td>1998-06-15T00:00:00.000+0000</td><td>1.7</td><td>AAA</td></tr><tr><td>1998-06-16T00:00:00.000+0000</td><td>1.62</td><td>AAA</td></tr><tr><td>1998-06-17T00:00:00.000+0000</td><td>1.64</td><td>AAA</td></tr><tr><td>1998-06-18T00:00:00.000+0000</td><td>1.75</td><td>AAA</td></tr><tr><td>1998-06-19T00:00:00.000+0000</td><td>1.67</td><td>AAA</td></tr><tr><td>1998-06-22T00:00:00.000+0000</td><td>1.698</td><td>AAA</td></tr><tr><td>1998-06-23T00:00:00.000+0000</td><td>1.66</td><td>AAA</td></tr><tr><td>1998-06-24T00:00:00.000+0000</td><td>1.66</td><td>AAA</td></tr><tr><td>1998-06-25T00:00:00.000+0000</td><td>1.68</td><td>AAA</td></tr><tr><td>1998-06-26T00:00:00.000+0000</td><td>1.66</td><td>AAA</td></tr><tr><td>1998-06-29T00:00:00.000+0000</td><td>1.67</td><td>AAA</td></tr><tr><td>1998-06-30T00:00:00.000+0000</td><td>1.67</td><td>AAA</td></tr><tr><td>1998-07-01T00:00:00.000+0000</td><td>1.73</td><td>AAA</td></tr><tr><td>1998-07-02T00:00:00.000+0000</td><td>1.85</td><td>AAA</td></tr><tr><td>1998-07-03T00:00:00.000+0000</td><td>1.85</td><td>AAA</td></tr><tr><td>1998-07-06T00:00:00.000+0000</td><td>1.95</td><td>AAA</td></tr><tr><td>1998-07-07T00:00:00.000+0000</td><td>1.98</td><td>AAA</td></tr><tr><td>1998-07-08T00:00:00.000+0000</td><td>2.01</td><td>AAA</td></tr><tr><td>1998-07-09T00:00:00.000+0000</td><td>1.93</td><td>AAA</td></tr><tr><td>1998-07-10T00:00:00.000+0000</td><td>1.87</td><td>AAA</td></tr><tr><td>1998-07-13T00:00:00.000+0000</td><td>1.77</td><td>AAA</td></tr><tr><td>1998-07-14T00:00:00.000+0000</td><td>1.85</td><td>AAA</td></tr><tr><td>1998-07-15T00:00:00.000+0000</td><td>1.98</td><td>AAA</td></tr><tr><td>1998-07-16T00:00:00.000+0000</td><td>2.02</td><td>AAA</td></tr><tr><td>1998-07-17T00:00:00.000+0000</td><td>2.03</td><td>AAA</td></tr><tr><td>1998-07-20T00:00:00.000+0000</td><td>1.91</td><td>AAA</td></tr><tr><td>1998-07-21T00:00:00.000+0000</td><td>1.918</td><td>AAA</td></tr><tr><td>1998-07-22T00:00:00.000+0000</td><td>1.96</td><td>AAA</td></tr><tr><td>1998-07-23T00:00:00.000+0000</td><td>1.85</td><td>AAA</td></tr><tr><td>1998-07-24T00:00:00.000+0000</td><td>1.82</td><td>AAA</td></tr><tr><td>1998-07-27T00:00:00.000+0000</td><td>1.89</td><td>AAA</td></tr><tr><td>1998-07-28T00:00:00.000+0000</td><td>1.9</td><td>AAA</td></tr><tr><td>1998-07-29T00:00:00.000+0000</td><td>1.91</td><td>AAA</td></tr><tr><td>1998-07-30T00:00:00.000+0000</td><td>1.92</td><td>AAA</td></tr><tr><td>1998-07-31T00:00:00.000+0000</td><td>1.93</td><td>AAA</td></tr><tr><td>1998-08-03T00:00:00.000+0000</td><td>1.9</td><td>AAA</td></tr><tr><td>1998-08-04T00:00:00.000+0000</td><td>1.88</td><td>AAA</td></tr><tr><td>1998-08-05T00:00:00.000+0000</td><td>1.86</td><td>AAA</td></tr><tr><td>1998-08-06T00:00:00.000+0000</td><td>1.89</td><td>AAA</td></tr><tr><td>1998-08-07T00:00:00.000+0000</td><td>1.88</td><td>AAA</td></tr><tr><td>1998-08-10T00:00:00.000+0000</td><td>1.88</td><td>AAA</td></tr><tr><td>1998-08-11T00:00:00.000+0000</td><td>1.82</td><td>AAA</td></tr><tr><td>1998-08-12T00:00:00.000+0000</td><td>1.74</td><td>AAA</td></tr><tr><td>1998-08-13T00:00:00.000+0000</td><td>1.73</td><td>AAA</td></tr><tr><td>1998-08-14T00:00:00.000+0000</td><td>1.72</td><td>AAA</td></tr><tr><td>1998-08-17T00:00:00.000+0000</td><td>1.75</td><td>AAA</td></tr><tr><td>1998-08-18T00:00:00.000+0000</td><td>1.76</td><td>AAA</td></tr><tr><td>1998-08-19T00:00:00.000+0000</td><td>1.79</td><td>AAA</td></tr><tr><td>1998-08-20T00:00:00.000+0000</td><td>1.85</td><td>AAA</td></tr><tr><td>1998-08-21T00:00:00.000+0000</td><td>1.85</td><td>AAA</td></tr><tr><td>1998-08-24T00:00:00.000+0000</td><td>1.82</td><td>AAA</td></tr><tr><td>1998-08-25T00:00:00.000+0000</td><td>1.83</td><td>AAA</td></tr><tr><td>1998-08-26T00:00:00.000+0000</td><td>1.78</td><td>AAA</td></tr><tr><td>1998-08-27T00:00:00.000+0000</td><td>1.73</td><td>AAA</td></tr><tr><td>1998-08-28T00:00:00.000+0000</td><td>1.64</td><td>AAA</td></tr><tr><td>1998-08-31T00:00:00.000+0000</td><td>1.57</td><td>AAA</td></tr><tr><td>1998-09-01T00:00:00.000+0000</td><td>1.45</td><td>AAA</td></tr><tr><td>1998-09-02T00:00:00.000+0000</td><td>1.64</td><td>AAA</td></tr><tr><td>1998-09-03T00:00:00.000+0000</td><td>1.7</td><td>AAA</td></tr><tr><td>1998-09-04T00:00:00.000+0000</td><td>1.8</td><td>AAA</td></tr><tr><td>1998-09-07T00:00:00.000+0000</td><td>1.88</td><td>AAA</td></tr><tr><td>1998-09-08T00:00:00.000+0000</td><td>1.97</td><td>AAA</td></tr><tr><td>1998-09-09T00:00:00.000+0000</td><td>1.86</td><td>AAA</td></tr><tr><td>1998-09-10T00:00:00.000+0000</td><td>1.81</td><td>AAA</td></tr><tr><td>1998-09-11T00:00:00.000+0000</td><td>1.86</td><td>AAA</td></tr><tr><td>1998-09-14T00:00:00.000+0000</td><td>1.94</td><td>AAA</td></tr><tr><td>1998-09-15T00:00:00.000+0000</td><td>1.92</td><td>AAA</td></tr><tr><td>1998-09-16T00:00:00.000+0000</td><td>1.87</td><td>AAA</td></tr><tr><td>1998-09-17T00:00:00.000+0000</td><td>1.87</td><td>AAA</td></tr><tr><td>1998-09-18T00:00:00.000+0000</td><td>2.03</td><td>AAA</td></tr><tr><td>1998-09-21T00:00:00.000+0000</td><td>2.0</td><td>AAA</td></tr><tr><td>1998-09-22T00:00:00.000+0000</td><td>1.99</td><td>AAA</td></tr><tr><td>1998-09-23T00:00:00.000+0000</td><td>2.02</td><td>AAA</td></tr><tr><td>1998-09-24T00:00:00.000+0000</td><td>2.07</td><td>AAA</td></tr><tr><td>1998-09-25T00:00:00.000+0000</td><td>2.2</td><td>AAA</td></tr><tr><td>1998-09-28T00:00:00.000+0000</td><td>2.25</td><td>AAA</td></tr><tr><td>1998-09-29T00:00:00.000+0000</td><td>2.33</td><td>AAA</td></tr><tr><td>1998-09-30T00:00:00.000+0000</td><td>2.36</td><td>AAA</td></tr><tr><td>1998-10-01T00:00:00.000+0000</td><td>2.33</td><td>AAA</td></tr><tr><td>1998-10-02T00:00:00.000+0000</td><td>2.39</td><td>AAA</td></tr><tr><td>1998-10-05T00:00:00.000+0000</td><td>2.54</td><td>AAA</td></tr><tr><td>1998-10-06T00:00:00.000+0000</td><td>2.5</td><td>AAA</td></tr><tr><td>1998-10-07T00:00:00.000+0000</td><td>2.55</td><td>AAA</td></tr><tr><td>1998-10-08T00:00:00.000+0000</td><td>2.7</td><td>AAA</td></tr><tr><td>1998-10-09T00:00:00.000+0000</td><td>2.68</td><td>AAA</td></tr><tr><td>1998-10-12T00:00:00.000+0000</td><td>2.6</td><td>AAA</td></tr><tr><td>1998-10-13T00:00:00.000+0000</td><td>2.43</td><td>AAA</td></tr><tr><td>1998-10-14T00:00:00.000+0000</td><td>2.39</td><td>AAA</td></tr><tr><td>1998-10-15T00:00:00.000+0000</td><td>2.25</td><td>AAA</td></tr><tr><td>1998-10-16T00:00:00.000+0000</td><td>2.4</td><td>AAA</td></tr><tr><td>1998-10-19T00:00:00.000+0000</td><td>2.48</td><td>AAA</td></tr><tr><td>1998-10-20T00:00:00.000+0000</td><td>2.37</td><td>AAA</td></tr><tr><td>1998-10-21T00:00:00.000+0000</td><td>2.46</td><td>AAA</td></tr><tr><td>1998-10-22T00:00:00.000+0000</td><td>2.49</td><td>AAA</td></tr><tr><td>1998-10-23T00:00:00.000+0000</td><td>2.41</td><td>AAA</td></tr><tr><td>1998-10-26T00:00:00.000+0000</td><td>2.41</td><td>AAA</td></tr><tr><td>1998-10-27T00:00:00.000+0000</td><td>2.38</td><td>AAA</td></tr><tr><td>1998-10-28T00:00:00.000+0000</td><td>2.42</td><td>AAA</td></tr><tr><td>1998-10-29T00:00:00.000+0000</td><td>2.38</td><td>AAA</td></tr><tr><td>1998-10-30T00:00:00.000+0000</td><td>2.45</td><td>AAA</td></tr><tr><td>1998-11-02T00:00:00.000+0000</td><td>2.44</td><td>AAA</td></tr><tr><td>1998-11-03T00:00:00.000+0000</td><td>2.38</td><td>AAA</td></tr><tr><td>1998-11-04T00:00:00.000+0000</td><td>2.32</td><td>AAA</td></tr><tr><td>1998-11-05T00:00:00.000+0000</td><td>2.34</td><td>AAA</td></tr><tr><td>1998-11-06T00:00:00.000+0000</td><td>2.48</td><td>AAA</td></tr><tr><td>1998-11-09T00:00:00.000+0000</td><td>2.43</td><td>AAA</td></tr><tr><td>1998-11-10T00:00:00.000+0000</td><td>2.4</td><td>AAA</td></tr><tr><td>1998-11-11T00:00:00.000+0000</td><td>2.41</td><td>AAA</td></tr><tr><td>1998-11-12T00:00:00.000+0000</td><td>2.41</td><td>AAA</td></tr><tr><td>1998-11-13T00:00:00.000+0000</td><td>2.5</td><td>AAA</td></tr><tr><td>1998-11-16T00:00:00.000+0000</td><td>2.47</td><td>AAA</td></tr><tr><td>1998-11-17T00:00:00.000+0000</td><td>2.41</td><td>AAA</td></tr><tr><td>1998-11-18T00:00:00.000+0000</td><td>2.37</td><td>AAA</td></tr><tr><td>1998-11-19T00:00:00.000+0000</td><td>2.45</td><td>AAA</td></tr><tr><td>1998-11-20T00:00:00.000+0000</td><td>2.43</td><td>AAA</td></tr><tr><td>1998-11-23T00:00:00.000+0000</td><td>2.43</td><td>AAA</td></tr><tr><td>1998-11-24T00:00:00.000+0000</td><td>2.4</td><td>AAA</td></tr><tr><td>1998-11-25T00:00:00.000+0000</td><td>2.36</td><td>AAA</td></tr><tr><td>1998-11-26T00:00:00.000+0000</td><td>2.32</td><td>AAA</td></tr><tr><td>1998-11-27T00:00:00.000+0000</td><td>2.32</td><td>AAA</td></tr><tr><td>1998-11-30T00:00:00.000+0000</td><td>2.33</td><td>AAA</td></tr><tr><td>1998-12-01T00:00:00.000+0000</td><td>2.29</td><td>AAA</td></tr><tr><td>1998-12-02T00:00:00.000+0000</td><td>2.33</td><td>AAA</td></tr><tr><td>1998-12-03T00:00:00.000+0000</td><td>2.32</td><td>AAA</td></tr><tr><td>1998-12-04T00:00:00.000+0000</td><td>2.32</td><td>AAA</td></tr><tr><td>1998-12-07T00:00:00.000+0000</td><td>2.29</td><td>AAA</td></tr><tr><td>1998-12-08T00:00:00.000+0000</td><td>2.33</td><td>AAA</td></tr><tr><td>1998-12-09T00:00:00.000+0000</td><td>2.32</td><td>AAA</td></tr><tr><td>1998-12-10T00:00:00.000+0000</td><td>2.31</td><td>AAA</td></tr><tr><td>1998-12-11T00:00:00.000+0000</td><td>2.28</td><td>AAA</td></tr><tr><td>1998-12-14T00:00:00.000+0000</td><td>2.15</td><td>AAA</td></tr><tr><td>1998-12-15T00:00:00.000+0000</td><td>2.21</td><td>AAA</td></tr><tr><td>1998-12-16T00:00:00.000+0000</td><td>2.22</td><td>AAA</td></tr><tr><td>1998-12-17T00:00:00.000+0000</td><td>2.38</td><td>AAA</td></tr><tr><td>1998-12-18T00:00:00.000+0000</td><td>2.36</td><td>AAA</td></tr><tr><td>1998-12-21T00:00:00.000+0000</td><td>2.35</td><td>AAA</td></tr><tr><td>1998-12-22T00:00:00.000+0000</td><td>2.38</td><td>AAA</td></tr><tr><td>1998-12-23T00:00:00.000+0000</td><td>2.35</td><td>AAA</td></tr><tr><td>1998-12-24T00:00:00.000+0000</td><td>2.35</td><td>AAA</td></tr><tr><td>1998-12-29T00:00:00.000+0000</td><td>2.3</td><td>AAA</td></tr><tr><td>1998-12-30T00:00:00.000+0000</td><td>2.32</td><td>AAA</td></tr><tr><td>1998-12-31T00:00:00.000+0000</td><td>2.33</td><td>AAA</td></tr></tbody></table></div>"
      ]
     },
     "metadata": {},
     "output_type": "execute_result"
    }
   ],
   "source": [
    "display(focus_df)"
   ]
  },
  {
   "cell_type": "code",
   "execution_count": 21,
   "metadata": {},
   "outputs": [
    {
     "data": {
      "text/html": [
       "<style scoped>\n  .table-result-container {\n    max-height: 300px;\n    overflow: auto;\n  }\n  table, th, td {\n    border: 1px solid black;\n    border-collapse: collapse;\n  }\n  th, td {\n    padding: 5px;\n  }\n  th {\n    text-align: left;\n  }\n</style><div class='table-result-container'><table class='table-result'><thead style='background-color: white'><tr></tr></thead><tbody></tbody></table></div>"
      ]
     },
     "metadata": {},
     "output_type": "execute_result"
    }
   ],
   "source": [
    "%sql drop table if exists timeseries;"
   ]
  },
  {
   "cell_type": "code",
   "execution_count": 22,
   "metadata": {},
   "outputs": [
    {
     "data": {
      "text/html": [
       "<style scoped>\n  .ansiout {\n    display: block;\n    unicode-bidi: embed;\n    white-space: pre-wrap;\n    word-wrap: break-word;\n    word-break: break-all;\n    font-family: \"Source Code Pro\", \"Menlo\", monospace;;\n    font-size: 13px;\n    color: #555;\n    margin-left: 4px;\n    line-height: 19px;\n  }\n</style>\n<div class=\"ansiout\"></div>"
      ]
     },
     "metadata": {},
     "output_type": "execute_result"
    }
   ],
   "source": [
    "focus_df.write.saveAsTable(\"timeseries\")"
   ]
  },
  {
   "cell_type": "code",
   "execution_count": 23,
   "metadata": {},
   "outputs": [
    {
     "data": {
      "text/html": [
       "<style scoped>\n  .ansiout {\n    display: block;\n    unicode-bidi: embed;\n    white-space: pre-wrap;\n    word-wrap: break-word;\n    word-break: break-all;\n    font-family: \"Source Code Pro\", \"Menlo\", monospace;;\n    font-size: 13px;\n    color: #555;\n    margin-left: 4px;\n    line-height: 19px;\n  }\n</style>\n<div class=\"ansiout\"></div>"
      ]
     },
     "metadata": {},
     "output_type": "execute_result"
    }
   ],
   "source": [
    "from pyspark.sql.functions import year\n",
    "\n",
    "df_2016 = ((df \n",
    "  .filter(year(\"Date\") == '2016')\n",
    "))"
   ]
  },
  {
   "cell_type": "code",
   "execution_count": 24,
   "metadata": {},
   "outputs": [
    {
     "data": {
      "text/html": [
       "<style scoped>\n  .table-result-container {\n    max-height: 300px;\n    overflow: auto;\n  }\n  table, th, td {\n    border: 1px solid black;\n    border-collapse: collapse;\n  }\n  th, td {\n    padding: 5px;\n  }\n  th {\n    text-align: left;\n  }\n</style><div class='table-result-container'><table class='table-result'><thead style='background-color: white'><tr></tr></thead><tbody></tbody></table></div>"
      ]
     },
     "metadata": {},
     "output_type": "execute_result"
    }
   ],
   "source": [
    "%sql drop table if exists asxhistoric2016;"
   ]
  },
  {
   "cell_type": "code",
   "execution_count": 25,
   "metadata": {},
   "outputs": [
    {
     "data": {
      "text/html": [
       "<style scoped>\n  .ansiout {\n    display: block;\n    unicode-bidi: embed;\n    white-space: pre-wrap;\n    word-wrap: break-word;\n    word-break: break-all;\n    font-family: \"Source Code Pro\", \"Menlo\", monospace;;\n    font-size: 13px;\n    color: #555;\n    margin-left: 4px;\n    line-height: 19px;\n  }\n</style>\n<div class=\"ansiout\"></div>"
      ]
     },
     "metadata": {},
     "output_type": "execute_result"
    }
   ],
   "source": [
    "df_2016.write.saveAsTable(\"asxhistoric2016\")"
   ]
  },
  {
   "cell_type": "code",
   "execution_count": 26,
   "metadata": {},
   "outputs": [
    {
     "data": {
      "text/html": [
       "<style scoped>\n  .table-result-container {\n    max-height: 300px;\n    overflow: auto;\n  }\n  table, th, td {\n    border: 1px solid black;\n    border-collapse: collapse;\n  }\n  th, td {\n    padding: 5px;\n  }\n  th {\n    text-align: left;\n  }\n</style><div class='table-result-container'><table class='table-result'><thead style='background-color: white'><tr><th>count(1)</th></tr></thead><tbody><tr><td>372892</td></tr></tbody></table></div>"
      ]
     },
     "metadata": {},
     "output_type": "execute_result"
    }
   ],
   "source": [
    "%sql\n",
    "SELECT COUNT(*) FROM asxhistoric2016;"
   ]
  },
  {
   "cell_type": "code",
   "execution_count": 27,
   "metadata": {},
   "outputs": [],
   "source": [
    ""
   ]
  }
 ],
 "metadata": {
  "name": "Ingest",
  "notebookId": 1.521445780264667E15
 },
 "nbformat": 4,
 "nbformat_minor": 0
}
